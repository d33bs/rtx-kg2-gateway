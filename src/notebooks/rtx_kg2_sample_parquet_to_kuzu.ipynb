{
 "cells": [
  {
   "cell_type": "markdown",
   "id": "94db8d0f-2dba-41af-a860-fcbe60c1824b",
   "metadata": {},
   "source": [
    "# Generate RTX-KG2 Sample Parquet to Kuzu"
   ]
  },
  {
   "cell_type": "code",
   "execution_count": 74,
   "id": "e598413e-509b-48b9-aab3-1c703b364c09",
   "metadata": {},
   "outputs": [],
   "source": [
    "import gzip\n",
    "import json\n",
    "import pathlib\n",
    "import shutil\n",
    "from typing import Any, Dict, Generator, List, Literal\n",
    "\n",
    "import awkward as ak\n",
    "import duckdb\n",
    "import ijson\n",
    "import kuzu\n",
    "import pyarrow as pa\n",
    "import requests\n",
    "from genson import SchemaBuilder\n",
    "from pyarrow import parquet\n",
    "from rtx_kg2_functions import (\n",
    "    count_items_under_top_level_name,\n",
    "    drop_table_if_exists,\n",
    "    find_top_level_names,\n",
    "    generate_cypher_table_create_stmt_from_parquet_file,\n",
    "    parse_items_by_topmost_item_name,\n",
    "    parse_metadata_by_object_name,\n",
    ")"
   ]
  },
  {
   "cell_type": "code",
   "execution_count": 2,
   "id": "46ab8fed-b335-4d55-a73e-a6904bc0bc46",
   "metadata": {
    "lines_to_next_cell": 2
   },
   "outputs": [
    {
     "name": "stdout",
     "output_type": "stream",
     "text": [
      "Kuzu dir: data/kg2c_lite_2.8.4.sample.dataset.kuzu\n"
     ]
    }
   ],
   "source": [
    "# set data to be used throughout notebook\n",
    "chunk_size = 1\n",
    "data_dir = \"data\"\n",
    "parquet_dir = f\"{data_dir}/\"\n",
    "source_data_url = \"https://github.com/ncats/translator-lfs-artifacts/raw/main/files/kg2c_lite_2.8.4.json.gz\"\n",
    "target_extracted_sample_data = f\"{data_dir}/{pathlib.Path(source_data_url).name.replace('.json.gz', '.sample.json')}\"\n",
    "parquet_dir = target_extracted_sample_data.replace(\".json\", \".dataset.parquet\")\n",
    "kuzu_dir = target_extracted_sample_data.replace(\".json\", \".dataset.kuzu\")\n",
    "target_extracted_sample_data_schema_file = target_extracted_sample_data.replace(\n",
    "    \".json\", \".schema.json\"\n",
    ")\n",
    "print(f\"Kuzu dir: {kuzu_dir}\")"
   ]
  },
  {
   "cell_type": "code",
   "execution_count": 3,
   "id": "3dc7f93e-e2ea-4840-868b-885afaff38f9",
   "metadata": {},
   "outputs": [],
   "source": [
    "# create path for the kuzu database to reside\n",
    "shutil.rmtree(kuzu_dir)\n",
    "pathlib.Path(kuzu_dir).mkdir(exist_ok=True)"
   ]
  },
  {
   "cell_type": "code",
   "execution_count": 4,
   "id": "b65ae82e-cdb2-4c10-a5a5-4114c327a06c",
   "metadata": {},
   "outputs": [],
   "source": [
    "# init a Kuzu database and connection\n",
    "db = kuzu.Database(f\"{kuzu_dir}\")\n",
    "kz_conn = kuzu.Connection(db)"
   ]
  },
  {
   "cell_type": "code",
   "execution_count": 37,
   "id": "760b5a53-a85f-4334-ad39-dcd4807edabf",
   "metadata": {},
   "outputs": [
    {
     "data": {
      "text/plain": [
       "['biolink_download_source', 'biolink']"
      ]
     },
     "execution_count": 37,
     "metadata": {},
     "output_type": "execute_result"
    }
   ],
   "source": [
    "[\n",
    "    val[0].as_py()\n",
    "    for val in pc.split_pattern(\n",
    "        parquet.ParquetDataset(f\"{parquet_dir}/nodes\").read(columns=[\"id\"])[\"id\"], \":\"\n",
    "    )\n",
    "]"
   ]
  },
  {
   "cell_type": "code",
   "execution_count": 33,
   "id": "183bde81-0759-4b39-b9eb-b74c33907428",
   "metadata": {},
   "outputs": [
    {
     "data": {
      "text/plain": [
       "['biolink_download_source', 'biolink']"
      ]
     },
     "execution_count": 33,
     "metadata": {},
     "output_type": "execute_result"
    }
   ],
   "source": [
    "import pyarrow as pa\n",
    "import pyarrow.compute as pc\n",
    "\n",
    "# Create a sample string column\n",
    "string_column = pa.array(\n",
    "    [\"biolink_download_source:biolink-model.owl.ttl\", \"biolink:overlaps\"]\n",
    ")\n",
    "\n",
    "# Split the string on \":\""
   ]
  },
  {
   "cell_type": "code",
   "execution_count": 31,
   "id": "79d57098-70d4-4db8-bedf-8b087bfd7784",
   "metadata": {},
   "outputs": [
    {
     "data": {
      "text/plain": [
       "'biolink_download_source'"
      ]
     },
     "execution_count": 31,
     "metadata": {},
     "output_type": "execute_result"
    }
   ],
   "source": []
  },
  {
   "cell_type": "code",
   "execution_count": 66,
   "id": "2c8b7851-cad1-4d93-96f7-d5d5fa707d3f",
   "metadata": {},
   "outputs": [],
   "source": [
    "def gather_table_names_from_parquet_path(\n",
    "    parquet_path: str,\n",
    "    column_with_table_name: str = \"id\",\n",
    "):\n",
    "    # return distinct table types as set comprehension\n",
    "    return set(\n",
    "        # create a parquet dataset and read a single column as an array\n",
    "        parquet.ParquetDataset(parquet_path)\n",
    "        .read(columns=[column_with_table_name])[column_with_table_name]\n",
    "        .to_pylist()\n",
    "    )"
   ]
  },
  {
   "cell_type": "code",
   "execution_count": 71,
   "id": "4c1351e9-5c8b-43a6-9ead-8f554f1fcb26",
   "metadata": {},
   "outputs": [],
   "source": [
    "edge_types = gather_table_names_from_parquet_path(\n",
    "    parquet_path=\"data/kg2c_lite_2.8.4.full.dataset.parquet/edges\",\n",
    "    column_with_table_name=\"predicate\",\n",
    ")"
   ]
  },
  {
   "cell_type": "code",
   "execution_count": 72,
   "id": "26057c91-aae4-4572-b067-3095f437ea95",
   "metadata": {},
   "outputs": [
    {
     "data": {
      "text/plain": [
       "['biolink:catalyzes', 'biolink:subclass_of', 'biolink:diagnoses']"
      ]
     },
     "execution_count": 72,
     "metadata": {},
     "output_type": "execute_result"
    }
   ],
   "source": [
    "list(edge_types)[:3]"
   ]
  },
  {
   "cell_type": "code",
   "execution_count": 97,
   "id": "e0e913c0-d616-4177-995e-03e33541876c",
   "metadata": {},
   "outputs": [
    {
     "name": "stdout",
     "output_type": "stream",
     "text": [
      "                                   category\n",
      "0                    biolink:ChemicalEntity\n",
      "1                              biolink:Drug\n",
      "2                biolink:GeneticInheritance\n",
      "3                             biolink:Event\n",
      "4              biolink:ClinicalIntervention\n",
      "5                    biolink:MaterialSample\n",
      "6                         biolink:Procedure\n",
      "7                           biolink:Protein\n",
      "8                 biolink:CellularComponent\n",
      "9              biolink:EnvironmentalProcess\n",
      "10       biolink:DiseaseOrPhenotypicFeature\n",
      "11                       biolink:NamedThing\n",
      "12                      biolink:Polypeptide\n",
      "13          biolink:ComplexMolecularMixture\n",
      "14                biolink:PhenotypicFeature\n",
      "15  biolink:PopulationOfIndividualOrganisms\n",
      "16                             biolink:Gene\n",
      "17         biolink:GrossAnatomicalStructure\n",
      "18              biolink:NoncodingRNAProduct\n",
      "19                  biolink:ChemicalMixture\n",
      "20                          biolink:Pathway\n",
      "21              biolink:PathologicalProcess\n",
      "22                    biolink:GenomicEntity\n",
      "23                    biolink:ProteinFamily\n",
      "24                       biolink:RNAProduct\n",
      "25                         biolink:CellLine\n",
      "26                       biolink:Phenomenon\n",
      "27                          biolink:Disease\n",
      "28                 biolink:AnatomicalEntity\n",
      "29                biolink:OrganismAttribute\n",
      "30                 biolink:MolecularMixture\n",
      "31             biolink:PhysiologicalProcess\n",
      "32                 biolink:BiologicalEntity\n",
      "33                    biolink:OrganismTaxon\n",
      "34                         biolink:Activity\n",
      "35                biolink:MolecularActivity\n",
      "36                biolink:BiologicalProcess\n",
      "37                         biolink:Behavior\n",
      "38                biolink:NucleicAcidEntity\n",
      "39               biolink:IndividualOrganism\n",
      "40                      biolink:Publication\n",
      "41                  biolink:MolecularEntity\n",
      "42                        biolink:Treatment\n",
      "43                    biolink:SmallMolecule\n",
      "44                           biolink:Device\n",
      "45                            biolink:Agent\n",
      "46                   biolink:PhysicalEntity\n",
      "47               biolink:GeographicLocation\n",
      "48                        biolink:LifeStage\n",
      "49                       biolink:GeneFamily\n",
      "50         biolink:InformationContentEntity\n",
      "51                           biolink:Cohort\n",
      "52                             biolink:Food\n",
      "53                             biolink:Cell\n",
      "54                biolink:ClinicalAttribute\n",
      "55                biolink:BehavioralFeature\n"
     ]
    }
   ],
   "source": [
    "with duckdb.connect() as ddb:\n",
    "    result = ddb.execute(\n",
    "        \"\"\"\n",
    "        WITH sub_and_preds AS (\n",
    "            SELECT object, subject\n",
    "            FROM read_parquet('data/kg2c_lite_2.8.4.full.dataset.parquet/edges/*')\n",
    "            WHERE predicate='biolink:subclass_of'\n",
    "        )\n",
    "        SELECT distinct category\n",
    "        FROM read_parquet('data/kg2c_lite_2.8.4.full.dataset.parquet/nodes/*'), sub_and_preds\n",
    "        WHERE id = sub_and_preds.object\n",
    "        \"\"\"\n",
    "    ).df()\n",
    "    print(result)"
   ]
  },
  {
   "cell_type": "code",
   "execution_count": 84,
   "id": "7a16a9cb-d950-4812-afc4-851d1356e77d",
   "metadata": {},
   "outputs": [],
   "source": [
    "def generate_cypher_table_create_stmt_from_parquet_path(\n",
    "    parquet_path: str,\n",
    "    table_type: Literal[\"node\", \"rel\"],\n",
    "    table_name: str,\n",
    "    rel_table_field_mapping: Dict[str, str] = {\"from\": \"nodes\", \"to\": \"nodes\"},\n",
    "    table_pkey_parquet_field_name: str = \"id\",\n",
    "    edges_to_or_from_fieldnames: List[str] = [\"subject\", \"object\"],\n",
    "):\n",
    "\n",
    "    if pathlib.Path(parquet_path).is_dir():\n",
    "        # use first file discovered as basis for schema\n",
    "        parquet_path = next(pathlib.Path(path).glob(\"*.parquet\"))\n",
    "\n",
    "    parquet_schema = parquet.read_schema(parquet_path)\n",
    "\n",
    "    if table_pkey_parquet_field_name not in [field.name for field in parquet_schema]:\n",
    "        raise LookupError(\n",
    "            f\"Unable to find field {table_pkey_parquet_field_name} in parquet file {parquet_path}.\"\n",
    "        )\n",
    "\n",
    "    # Map Parquet data types to Cypher data types\n",
    "    # more details here: https://kuzudb.com/docusaurus/cypher/data-types/\n",
    "    parquet_to_cypher_type_mapping = {\n",
    "        \"string\": \"STRING\",\n",
    "        \"int32\": \"INT32\",\n",
    "        \"int64\": \"INT64\",\n",
    "        \"number\": \"FLOAT\",\n",
    "        \"float\": \"FLOAT\",\n",
    "        \"double\": \"FLOAT\",\n",
    "        \"boolean\": \"BOOLEAN\",\n",
    "        \"object\": \"MAP\",\n",
    "        \"array\": \"INT64[]\",\n",
    "        \"list<element: string>\": \"STRING[]\",\n",
    "        \"null\": \"NULL\",\n",
    "        \"date\": \"DATE\",\n",
    "        \"time\": \"TIME\",\n",
    "        \"datetime\": \"DATETIME\",\n",
    "        \"timestamp\": \"DATETIME\",\n",
    "        \"any\": \"ANY\",\n",
    "    }\n",
    "\n",
    "    # Generate Cypher field type statements\n",
    "    cypher_fields_from_parquet_schema = \", \".join(\n",
    "        [\n",
    "            # note: we use string splitting here for nested types\n",
    "            # for ex. list<element: string>\n",
    "            f\"{field.name} {parquet_to_cypher_type_mapping.get(str(field.type))}\"\n",
    "            for idx, field in enumerate(parquet_schema)\n",
    "            if table_type == \"node\" or (table_type == \"rel\" and idx > 1)\n",
    "        ]\n",
    "    )\n",
    "\n",
    "    # branch for creating node table\n",
    "    if table_type == \"nodes\":\n",
    "        return (\n",
    "            f\"CREATE NODE TABLE {table_name}\"\n",
    "            f\"({cypher_fields_from_parquet_schema}, \"\n",
    "            f\"PRIMARY KEY ({table_pkey_parquet_field_name}))\"\n",
    "        )\n",
    "\n",
    "    # else we return for rel tables\n",
    "    return (\n",
    "        f\"CREATE REL TABLE {table_name}\"\n",
    "        f\"(FROM {rel_table_field_mapping['from']} TO {rel_table_field_mapping['to']}, \"\n",
    "        f\"{cypher_fields_from_parquet_schema})\"\n",
    "    )"
   ]
  },
  {
   "cell_type": "code",
   "execution_count": 90,
   "id": "a6f88caf-239a-4be7-86ff-919d39ca10fd",
   "metadata": {},
   "outputs": [
    {
     "name": "stdout",
     "output_type": "stream",
     "text": [
      "Using the following create statement to create table:\n",
      "\n",
      "CREATE NODE TABLE RetrievalSource(id STRING, name STRING, all_categories STRING[], category STRING, PRIMARY KEY (id))\n",
      "\n",
      "\n",
      "Using the following create statement to create table:\n",
      "\n",
      "CREATE NODE TABLE InformationContentEntity(id STRING, name STRING, all_categories STRING[], category STRING, PRIMARY KEY (id))\n",
      "\n",
      "\n"
     ]
    }
   ],
   "source": [
    "# note: we provide specific ordering here to ensure nodes are created before edges\n",
    "dataset_name_to_cypher_table_type_map = {\"nodes\": \"node\", \"edges\": \"rel\"}\n",
    "\n",
    "\n",
    "for path, table_name_column, primary_key in [\n",
    "    [f\"{parquet_dir}/nodes\", \"category\", \"id\"],\n",
    "    # [f\"{parquet_dir}/edges\", \"predicate\", None],\n",
    "]:\n",
    "\n",
    "    for table_name in gather_table_names_from_parquet_path(\n",
    "        parquet_path=path, column_with_table_name=table_name_column\n",
    "    ):\n",
    "\n",
    "        cypher_table_name = table_name.split(\":\")[1]\n",
    "\n",
    "        drop_table_if_exists(kz_conn=kz_conn, table_name=cypher_table_name)\n",
    "\n",
    "        create_stmt = generate_cypher_table_create_stmt_from_parquet_path(\n",
    "            parquet_path=path,\n",
    "            table_type=dataset_name_to_cypher_table_type_map[pathlib.Path(path).name],\n",
    "            table_name=cypher_table_name,\n",
    "            table_pkey_parquet_field_name=primary_key,\n",
    "        )\n",
    "\n",
    "        print(\n",
    "            f\"Using the following create statement to create table:\\n\\n{create_stmt}\\n\\n\"\n",
    "        )\n",
    "        kz_conn.execute(create_stmt)"
   ]
  },
  {
   "cell_type": "code",
   "execution_count": null,
   "id": "7a75ef8d-b58c-4937-a46e-fe22eb52af16",
   "metadata": {},
   "outputs": [],
   "source": [
    "# note: we provide specific ordering here to ensure nodes are created before edges\n",
    "for path in [f\"{parquet_dir}/nodes\", f\"{parquet_dir}/edges\"]:\n",
    "\n",
    "    print(f\"Working on kuzu ingest of parquet dataset: {path} \")\n",
    "    # uses wildcard functionality for all files under parquet dataset dir\n",
    "    # see: https://kuzudb.com/docusaurus/data-import/csv-import#copy-from-multiple-csv-files-to-a-single-table\n",
    "    kz_conn.execute(f'COPY {pathlib.Path(path).name} FROM \"{path}/*.parquet\"')"
   ]
  }
 ],
 "metadata": {
  "kernelspec": {
   "display_name": "Python 3 (ipykernel)",
   "language": "python",
   "name": "python3"
  },
  "language_info": {
   "codemirror_mode": {
    "name": "ipython",
    "version": 3
   },
   "file_extension": ".py",
   "mimetype": "text/x-python",
   "name": "python",
   "nbconvert_exporter": "python",
   "pygments_lexer": "ipython3",
   "version": "3.11.2"
  }
 },
 "nbformat": 4,
 "nbformat_minor": 5
}
